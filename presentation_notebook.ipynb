{
 "cells": [
  {
   "cell_type": "code",
   "execution_count": 1,
   "source": [
    "from collections import defaultdict\n",
    "\n",
    "import itertools\n",
    "\n",
    "import tensorflow as tf\n",
    "import tensorflow_text as tf_text\n",
    "import numpy as np\n",
    "import matplotlib.pyplot as plt\n",
    "\n",
    "import download_dataset\n",
    "import ocr_input\n",
    "\n",
    "plt.rcParams['figure.figsize'] = [15, 12]\n",
    "\n",
    "tf.executing_eagerly() "
   ],
   "outputs": [
    {
     "output_type": "execute_result",
     "data": {
      "text/plain": [
       "True"
      ]
     },
     "metadata": {},
     "execution_count": 1
    }
   ],
   "metadata": {}
  },
  {
   "cell_type": "code",
   "execution_count": 2,
   "source": [
    "import download_dataset  # dowloading from google drive\n",
    "import ocr_input         # deals with reading dataset and xml parsing\n",
    "\n",
    "\n",
    "for elt in [\"label\", \"image\", \"ocr\", \"dataset_assignment\"]:\n",
    "    download_dataset.download_and_extract(elt)\n",
    "\n",
    "dataset_path = \"dataset\""
   ],
   "outputs": [
    {
     "output_type": "stream",
     "name": "stdout",
     "text": [
      "Unzipping ./tmp/image.zip to dataset/image…\n",
      "Unzipping ./tmp/ocr.zip to dataset/ocr…\n"
     ]
    }
   ],
   "metadata": {}
  },
  {
   "cell_type": "markdown",
   "source": [],
   "metadata": {}
  },
  {
   "cell_type": "code",
   "execution_count": 37,
   "source": [
    "import string\n",
    "\n",
    "import nltk\n",
    "\n",
    "from nltk.corpus import stopwords\n",
    "from nltk.stem.porter import PorterStemmer\n",
    "\n",
    "stop_words = stopwords.words('english')\n",
    "stemmer = PorterStemmer()\n",
    "\n",
    "def clean_text(text):\n",
    "    text = text.lower()\n",
    "    text = \"\".join([char for char in text if char not in string.punctuation])\n",
    "    words = text.split()\n",
    "\n",
    "    filtered_words = [word for word in words if word not in stop_words]\n",
    "    stemmed = [stemmer.stem(word) for word in filtered_words]\n",
    "\n",
    "    return \" \".join(stemmed)\n"
   ],
   "outputs": [],
   "metadata": {}
  },
  {
   "cell_type": "code",
   "execution_count": 38,
   "source": [
    "# Read train / test split and labels\n",
    "raw_class_indices = ['1', '2', '3', '4', '11']\n",
    "class_names = ['form', 'email', 'handwritten', 'advertisement', 'invoice']\n",
    "NUM_CLASSES = len(class_names)\n",
    "\n",
    "labels = {}\n",
    "with open(os.path.join(dataset_path, \"label.txt\"), \"r\") as f:\n",
    "    for line in f.readlines():\n",
    "        file_id, lbl = line.strip().split(\",\")\n",
    "        labels[file_id] = lbl\n",
    "\n",
    "dataset = defaultdict(list)\n",
    "with open(os.path.join(dataset_path, \"dataset_assignment.txt\"), \"r\") as f:\n",
    "    for line in f.readlines():\n",
    "        line = line.split('\\n')[0]\n",
    "        file_id, assignment = line.split(',')\n",
    "        img_path = os.path.join(dataset_path, \"image_png\", f\"{file_id}.png\")\n",
    "        ocr_path = os.path.join(dataset_path, \"ocr\", f\"{file_id}.xml\")\n",
    "        \n",
    "        text = ocr_input.parse_xml(ocr_path)\n",
    "        text = clean_text(text) \n",
    "        \n",
    "        dataset[f\"{assignment}_img\"].append(img_path)\n",
    "        dataset[f\"{assignment}_ocr\"].append(text)\n",
    "        dataset[f\"{assignment}_lbl\"].append(raw_class_indices.index(labels[file_id]))"
   ],
   "outputs": [],
   "metadata": {}
  },
  {
   "cell_type": "code",
   "execution_count": 4,
   "source": [
    "PPI = 35  # Number of Pixels Per Inch \n",
    "IMG_WIDTH, IMG_HEIGHT = int(PPI * 8.5), int(PPI * 11)\n",
    "\n",
    "\n",
    "@tf.function\n",
    "def decode_img(img):\n",
    "    # convert the compressed string to a uint8 tensor\n",
    "    img = tf.io.decode_png(img, channels=1)\n",
    "    # convert to floats in the [0,1] range\n",
    "    img = tf.image.convert_image_dtype(img, tf.float32)\n",
    "    # resize the image to the desired size\n",
    "    img = tf.image.resize(img, [IMG_HEIGHT, IMG_WIDTH])\n",
    "    return img\n",
    "\n",
    "@tf.function\n",
    "def process_image_path(file_path, lbl):\n",
    "    file = tf.io.read_file(file_path)\n",
    "    img = decode_img(file)\n",
    "    return img, lbl"
   ],
   "outputs": [],
   "metadata": {}
  },
  {
   "cell_type": "code",
   "execution_count": 39,
   "source": [
    "VOCAB_SIZE = 10_000\n",
    "\n",
    "# tokenizer = tf_text.BertTokenizer(\"bert_en_uncased_L-12_H-768_A-12_4/assets/vocab.txt\")\n",
    "tokenizer = tf_text.WhitespaceTokenizer()\n",
    "\n",
    "def process_text(text, lbl):\n",
    "    tokens = tokenizer.tokenize(text)\n",
    "    \n",
    "    # return tokens.merge_dims(0, 2)[:500], lbl\n",
    "\n",
    "    tokens = tf.strings.to_hash_bucket_fast(tokens, VOCAB_SIZE)\n",
    "    return tokens[:400], lbl"
   ],
   "outputs": [],
   "metadata": {}
  },
  {
   "cell_type": "code",
   "execution_count": null,
   "source": [
    "def process_mix(inputs, lbl):\n",
    "    text, img_path = inputs\n",
    "    img, _ = process_image_path(img_path, lbl)\n",
    "    tokens, _ = process_text(text, lbl)\n",
    "    return {\"input_nlp\": tokens, \"input_cv\": img}, lbl"
   ],
   "outputs": [],
   "metadata": {}
  },
  {
   "cell_type": "code",
   "execution_count": 5,
   "source": [
    "train_img_ds = tf.data.Dataset.from_tensor_slices((dataset[\"training_img\"], dataset[\"training_lbl\"]))\n",
    "train_img_ds = train_img_ds.shuffle(100000)\n",
    "train_img_ds = train_img_ds.map(process_image_path)\n",
    "\n",
    "test_img_ds = tf.data.Dataset.from_tensor_slices((dataset[\"test_img\"], dataset[\"test_lbl\"]))\n",
    "test_img_ds = test_img_ds.map(process_image_path)\n"
   ],
   "outputs": [
    {
     "output_type": "stream",
     "name": "stderr",
     "text": [
      "2021-10-20 10:55:29.840317: I tensorflow/stream_executor/cuda/cuda_gpu_executor.cc:937] successful NUMA node read from SysFS had negative value (-1), but there must be at least one NUMA node, so returning NUMA node zero\n",
      "2021-10-20 10:55:29.876538: I tensorflow/stream_executor/cuda/cuda_gpu_executor.cc:937] successful NUMA node read from SysFS had negative value (-1), but there must be at least one NUMA node, so returning NUMA node zero\n",
      "2021-10-20 10:55:29.877155: I tensorflow/stream_executor/cuda/cuda_gpu_executor.cc:937] successful NUMA node read from SysFS had negative value (-1), but there must be at least one NUMA node, so returning NUMA node zero\n",
      "2021-10-20 10:55:29.878319: I tensorflow/core/platform/cpu_feature_guard.cc:142] This TensorFlow binary is optimized with oneAPI Deep Neural Network Library (oneDNN) to use the following CPU instructions in performance-critical operations:  AVX2 FMA\n",
      "To enable them in other operations, rebuild TensorFlow with the appropriate compiler flags.\n",
      "2021-10-20 10:55:29.879105: I tensorflow/stream_executor/cuda/cuda_gpu_executor.cc:937] successful NUMA node read from SysFS had negative value (-1), but there must be at least one NUMA node, so returning NUMA node zero\n",
      "2021-10-20 10:55:29.879705: I tensorflow/stream_executor/cuda/cuda_gpu_executor.cc:937] successful NUMA node read from SysFS had negative value (-1), but there must be at least one NUMA node, so returning NUMA node zero\n",
      "2021-10-20 10:55:29.880172: I tensorflow/stream_executor/cuda/cuda_gpu_executor.cc:937] successful NUMA node read from SysFS had negative value (-1), but there must be at least one NUMA node, so returning NUMA node zero\n",
      "2021-10-20 10:55:30.591187: I tensorflow/stream_executor/cuda/cuda_gpu_executor.cc:937] successful NUMA node read from SysFS had negative value (-1), but there must be at least one NUMA node, so returning NUMA node zero\n",
      "2021-10-20 10:55:30.591535: I tensorflow/stream_executor/cuda/cuda_gpu_executor.cc:937] successful NUMA node read from SysFS had negative value (-1), but there must be at least one NUMA node, so returning NUMA node zero\n",
      "2021-10-20 10:55:30.591826: I tensorflow/stream_executor/cuda/cuda_gpu_executor.cc:937] successful NUMA node read from SysFS had negative value (-1), but there must be at least one NUMA node, so returning NUMA node zero\n",
      "2021-10-20 10:55:30.592105: I tensorflow/core/common_runtime/gpu/gpu_device.cc:1510] Created device /job:localhost/replica:0/task:0/device:GPU:0 with 5388 MB memory:  -> device: 0, name: NVIDIA GeForce GTX 1060 with Max-Q Design, pci bus id: 0000:01:00.0, compute capability: 6.1\n"
     ]
    },
    {
     "output_type": "stream",
     "name": "stdout",
     "text": [
      "WARNING:tensorflow:From /home/doudou/Documents/Code/NeuralDocumentClassification/.venv/lib/python3.9/site-packages/tensorflow/python/util/dispatch.py:206: batch_gather (from tensorflow.python.ops.array_ops) is deprecated and will be removed after 2017-10-25.\n",
      "Instructions for updating:\n",
      "`tf.batch_gather` is deprecated, please use `tf.gather` with `batch_dims=-1` instead.\n"
     ]
    }
   ],
   "metadata": {}
  },
  {
   "cell_type": "code",
   "execution_count": 40,
   "source": [
    "train_txt_ds = tf.data.Dataset.from_tensor_slices((dataset[\"training_ocr\"], dataset[\"training_lbl\"]))\n",
    "train_txt_ds = train_txt_ds.shuffle(100000)\n",
    "train_txt_ds = train_txt_ds.map(process_text)\n",
    "\n",
    "test_txt_ds = tf.data.Dataset.from_tensor_slices((dataset[\"test_ocr\"], dataset[\"test_lbl\"]))\n",
    "test_txt_ds = test_txt_ds.map(process_text)"
   ],
   "outputs": [],
   "metadata": {}
  },
  {
   "cell_type": "code",
   "execution_count": null,
   "source": [
    "train_mix_ds = tf.data.Dataset.from_tensor_slices(((dataset[\"training_ocr\"], dataset[\"training_img\"]), dataset[\"training_lbl\"]))\n",
    "train_mix_ds = train_mix_ds.shuffle(100000)\n",
    "train_mix_ds = train_mix_ds.map(process_mix)\n",
    "\n",
    "test_mix_ds = tf.data.Dataset.from_tensor_slices(((dataset[\"test_ocr\"], dataset[\"test_img\"]), dataset[\"test_lbl\"]))\n",
    "test_mix_ds = test_mix_ds.map(process_mix)"
   ],
   "outputs": [],
   "metadata": {}
  },
  {
   "cell_type": "code",
   "execution_count": 6,
   "source": [
    "for (token, img), lbl in test_mix_ds.padded_batch(3).take(1):\n",
    "    print(token, img, lbl)"
   ],
   "outputs": [
    {
     "output_type": "stream",
     "name": "stderr",
     "text": [
      "2021-10-20 10:56:00.811566: I tensorflow/compiler/mlir/mlir_graph_optimization_pass.cc:185] None of the MLIR Optimization Passes are enabled (registered 2)\n"
     ]
    },
    {
     "output_type": "stream",
     "name": "stdout",
     "text": [
      "input_nlp input_cv tf.Tensor([2 2 2], shape=(3,), dtype=int32)\n"
     ]
    }
   ],
   "metadata": {}
  },
  {
   "cell_type": "code",
   "execution_count": 6,
   "source": [
    "def plot_multiple_docs(imgs, lbls, dims):\n",
    "    m, n = dims\n",
    "    assert m*n >= len(lbls)\n",
    "    fig, axs = plt.subplots(n, m)\n",
    "    if isinstance(axs[0], list):\n",
    "        axs = list(itertools.chain(*axs))\n",
    "    for ax, img, lbl in zip(axs, imgs, lbls):\n",
    "        ax.imshow(img, cmap=\"gray\")\n",
    "        ax.set_title(class_names[lbl])\n",
    "        ax.set_xticks([])\n",
    "        ax.set_yticks([])\n",
    "\n"
   ],
   "outputs": [],
   "metadata": {}
  },
  {
   "cell_type": "code",
   "execution_count": 7,
   "source": [
    "imgs = []\n",
    "lbls = []\n",
    "for img, lbl in list_train_img_ds.take(5):\n",
    "    imgs.append(img.numpy())\n",
    "    lbls.append(lbl.numpy())\n",
    "print(imgs[0].shape)"
   ],
   "outputs": [
    {
     "output_type": "stream",
     "name": "stderr",
     "text": [
      "2021-10-08 21:11:47.770889: I tensorflow/compiler/mlir/mlir_graph_optimization_pass.cc:185] None of the MLIR Optimization Passes are enabled (registered 2)\n"
     ]
    },
    {
     "output_type": "stream",
     "name": "stdout",
     "text": [
      "(385, 297, 1)\n"
     ]
    }
   ],
   "metadata": {}
  },
  {
   "cell_type": "code",
   "execution_count": 8,
   "source": [
    "plot_multiple_docs(imgs, lbls, (5, 1))"
   ],
   "outputs": [
    {
     "output_type": "display_data",
     "data": {
      "image/png": "[encoded data removed]",
      "text/plain": [
       "<Figure size 1080x864 with 5 Axes>"
      ]
     },
     "metadata": {}
    }
   ],
   "metadata": {}
  },
  {
   "cell_type": "markdown",
   "source": [
    "## Computer Vision"
   ],
   "metadata": {}
  },
  {
   "cell_type": "code",
   "execution_count": 24,
   "source": [
    "cv_model = tf.keras.Sequential([\n",
    "    tf.keras.Input(shape=(385, 297, 1)),\n",
    "    tf.keras.layers.Conv2D(filters=8 , kernel_size=(3, 3), strides=(1, 1), activation=tf.nn.relu),\n",
    "    tf.keras.layers.Conv2D(filters=16, kernel_size=(3, 3), strides=(2, 2), activation=tf.nn.relu),\n",
    "    tf.keras.layers.Dropout(rate=0.5),\n",
    "    tf.keras.layers.Conv2D(filters=32, kernel_size=(5, 5), strides=(1, 1), activation=tf.nn.relu),\n",
    "    tf.keras.layers.MaxPooling2D(pool_size=(3, 3)),\n",
    "    tf.keras.layers.Conv2D(filters=32, kernel_size=(5, 5), strides=(2, 2), activation=tf.nn.relu),\n",
    "    tf.keras.layers.Dropout(rate=0.5),\n",
    "    tf.keras.layers.Flatten(),\n",
    "    tf.keras.layers.Dense(units=128, activation=tf.nn.relu),\n",
    "    tf.keras.layers.Dense(units=NUM_CLASSES, activation=tf.nn.softmax)\n",
    "\n",
    "])\n",
    "cv_model.build()"
   ],
   "outputs": [],
   "metadata": {}
  },
  {
   "cell_type": "code",
   "execution_count": 25,
   "source": [
    "cv_model.summary()"
   ],
   "outputs": [
    {
     "output_type": "stream",
     "name": "stdout",
     "text": [
      "Model: \"sequential_7\"\n",
      "_________________________________________________________________\n",
      "Layer (type)                 Output Shape              Param #   \n",
      "=================================================================\n",
      "conv2d_24 (Conv2D)           (None, 383, 295, 8)       80        \n",
      "_________________________________________________________________\n",
      "conv2d_25 (Conv2D)           (None, 191, 147, 16)      1168      \n",
      "_________________________________________________________________\n",
      "dropout_14 (Dropout)         (None, 191, 147, 16)      0         \n",
      "_________________________________________________________________\n",
      "conv2d_26 (Conv2D)           (None, 187, 143, 32)      12832     \n",
      "_________________________________________________________________\n",
      "max_pooling2d_7 (MaxPooling2 (None, 62, 47, 32)        0         \n",
      "_________________________________________________________________\n",
      "conv2d_27 (Conv2D)           (None, 29, 22, 32)        25632     \n",
      "_________________________________________________________________\n",
      "dropout_15 (Dropout)         (None, 29, 22, 32)        0         \n",
      "_________________________________________________________________\n",
      "flatten_6 (Flatten)          (None, 20416)             0         \n",
      "_________________________________________________________________\n",
      "dense_14 (Dense)             (None, 128)               2613376   \n",
      "_________________________________________________________________\n",
      "dense_15 (Dense)             (None, 5)                 645       \n",
      "=================================================================\n",
      "Total params: 2,653,733\n",
      "Trainable params: 2,653,733\n",
      "Non-trainable params: 0\n",
      "_________________________________________________________________\n"
     ]
    }
   ],
   "metadata": {}
  },
  {
   "cell_type": "code",
   "execution_count": 26,
   "source": [
    "batch_size = 256\n",
    "epochs = 10\n",
    "\n",
    "cv_model.compile(loss=\"sparse_categorical_crossentropy\", optimizer=\"adam\", metrics=[\"accuracy\"])\n",
    "\n",
    "cv_hist = cv_model.fit(train_img_ds.batch(batch_size),\n",
    "                       batch_size=batch_size,\n",
    "                       epochs=epochs,\n",
    "                       validation_data=test_img_ds.batch(8),\n",
    "                       callbacks=[tf.keras.callbacks.TensorBoard(\"log/cv\")])\n"
   ],
   "outputs": [
    {
     "output_type": "stream",
     "name": "stderr",
     "text": [
      "2021-10-20 11:05:24.362539: I tensorflow/core/profiler/lib/profiler_session.cc:131] Profiler session initializing.\n",
      "2021-10-20 11:05:24.362585: I tensorflow/core/profiler/lib/profiler_session.cc:146] Profiler session started.\n",
      "2021-10-20 11:05:24.363623: I tensorflow/core/profiler/internal/gpu/cupti_tracer.cc:1614] Profiler found 1 GPUs\n",
      "2021-10-20 11:05:24.364320: W tensorflow/stream_executor/platform/default/dso_loader.cc:64] Could not load dynamic library 'libcupti.so.11.2'; dlerror: libcupti.so.11.2: cannot open shared object file: No such file or directory\n",
      "2021-10-20 11:05:24.702499: I tensorflow/core/profiler/lib/profiler_session.cc:164] Profiler session tear down.\n",
      "2021-10-20 11:05:24.702655: I tensorflow/core/profiler/internal/gpu/cupti_tracer.cc:1748] CUPTI activity buffer flushed\n"
     ]
    },
    {
     "output_type": "stream",
     "name": "stdout",
     "text": [
      "Epoch 1/10\n",
      " 1/51 [..............................] - ETA: 2:10 - loss: 1.6206 - accuracy: 0.1641"
     ]
    },
    {
     "output_type": "stream",
     "name": "stderr",
     "text": [
      "2021-10-20 11:05:27.516793: I tensorflow/core/profiler/lib/profiler_session.cc:131] Profiler session initializing.\n",
      "2021-10-20 11:05:27.522147: I tensorflow/core/profiler/lib/profiler_session.cc:146] Profiler session started.\n"
     ]
    },
    {
     "output_type": "stream",
     "name": "stdout",
     "text": [
      " 2/51 [>.............................] - ETA: 1:29 - loss: 1.7188 - accuracy: 0.1836"
     ]
    },
    {
     "output_type": "stream",
     "name": "stderr",
     "text": [
      "2021-10-20 11:05:29.236898: I tensorflow/core/profiler/lib/profiler_session.cc:66] Profiler session collecting data.\n",
      "2021-10-20 11:05:29.237652: I tensorflow/core/profiler/internal/gpu/cupti_tracer.cc:1748] CUPTI activity buffer flushed\n",
      "2021-10-20 11:05:29.540405: I tensorflow/core/profiler/internal/gpu/cupti_collector.cc:673]  GpuTracer has collected 424 callback api events and 427 activity events. \n",
      "2021-10-20 11:05:29.598184: I tensorflow/core/profiler/lib/profiler_session.cc:164] Profiler session tear down.\n",
      "2021-10-20 11:05:29.720694: I tensorflow/core/profiler/rpc/client/save_profile.cc:136] Creating directory: logs/train/plugins/profile/2021_10_20_11_05_29\n",
      "\n",
      "2021-10-20 11:05:29.750534: I tensorflow/core/profiler/rpc/client/save_profile.cc:142] Dumped gzipped tool data for trace.json.gz to logs/train/plugins/profile/2021_10_20_11_05_29/doudou-blade.trace.json.gz\n",
      "2021-10-20 11:05:29.949903: I tensorflow/core/profiler/rpc/client/save_profile.cc:136] Creating directory: logs/train/plugins/profile/2021_10_20_11_05_29\n",
      "\n",
      "2021-10-20 11:05:29.957267: I tensorflow/core/profiler/rpc/client/save_profile.cc:142] Dumped gzipped tool data for memory_profile.json.gz to logs/train/plugins/profile/2021_10_20_11_05_29/doudou-blade.memory_profile.json.gz\n",
      "2021-10-20 11:05:29.962929: I tensorflow/core/profiler/rpc/client/capture_profile.cc:251] Creating directory: logs/train/plugins/profile/2021_10_20_11_05_29\n",
      "Dumped tool data for xplane.pb to logs/train/plugins/profile/2021_10_20_11_05_29/doudou-blade.xplane.pb\n",
      "Dumped tool data for overview_page.pb to logs/train/plugins/profile/2021_10_20_11_05_29/doudou-blade.overview_page.pb\n",
      "Dumped tool data for input_pipeline.pb to logs/train/plugins/profile/2021_10_20_11_05_29/doudou-blade.input_pipeline.pb\n",
      "Dumped tool data for tensorflow_stats.pb to logs/train/plugins/profile/2021_10_20_11_05_29/doudou-blade.tensorflow_stats.pb\n",
      "Dumped tool data for kernel_stats.pb to logs/train/plugins/profile/2021_10_20_11_05_29/doudou-blade.kernel_stats.pb\n",
      "\n"
     ]
    },
    {
     "output_type": "stream",
     "name": "stdout",
     "text": [
      "51/51 [==============================] - 98s 2s/step - loss: 1.1910 - accuracy: 0.5174 - val_loss: 0.9893 - val_accuracy: 0.6368\n",
      "Epoch 2/10\n",
      "51/51 [==============================] - 103s 2s/step - loss: 0.7857 - accuracy: 0.7174 - val_loss: 0.7202 - val_accuracy: 0.7556\n",
      "Epoch 3/10\n",
      "51/51 [==============================] - 91s 2s/step - loss: 0.6359 - accuracy: 0.7732 - val_loss: 0.6751 - val_accuracy: 0.7535\n",
      "Epoch 4/10\n",
      "51/51 [==============================] - 93s 2s/step - loss: 0.5217 - accuracy: 0.8155 - val_loss: 0.5379 - val_accuracy: 0.8146\n",
      "Epoch 5/10\n",
      "51/51 [==============================] - 88s 2s/step - loss: 0.4608 - accuracy: 0.8366 - val_loss: 0.4924 - val_accuracy: 0.8285\n",
      "Epoch 6/10\n",
      "51/51 [==============================] - 91s 2s/step - loss: 0.3902 - accuracy: 0.8627 - val_loss: 0.4873 - val_accuracy: 0.8282\n",
      "Epoch 7/10\n",
      "51/51 [==============================] - 91s 2s/step - loss: 0.3518 - accuracy: 0.8764 - val_loss: 0.4456 - val_accuracy: 0.8405\n",
      "Epoch 8/10\n",
      "51/51 [==============================] - 96s 2s/step - loss: 0.2921 - accuracy: 0.8980 - val_loss: 0.4591 - val_accuracy: 0.8300\n",
      "Epoch 9/10\n",
      "51/51 [==============================] - 90s 2s/step - loss: 0.2612 - accuracy: 0.9078 - val_loss: 0.4479 - val_accuracy: 0.8474\n",
      "Epoch 10/10\n",
      "51/51 [==============================] - 93s 2s/step - loss: 0.2008 - accuracy: 0.9283 - val_loss: 0.4496 - val_accuracy: 0.8477\n"
     ]
    }
   ],
   "metadata": {}
  },
  {
   "cell_type": "markdown",
   "source": [
    "## Natural language Processing"
   ],
   "metadata": {}
  },
  {
   "cell_type": "code",
   "execution_count": 41,
   "source": [
    "nlp_model = tf.keras.Sequential([\n",
    "    tf.keras.Input(shape=(None,), dtype=tf.int64, ragged=True),\n",
    "    tf.keras.layers.Embedding(input_dim=VOCAB_SIZE, output_dim=256),\n",
    "    tf.keras.layers.Dropout(rate=0.5),\n",
    "    tf.keras.layers.Bidirectional(tf.keras.layers.LSTM(units=256), merge_mode=\"sum\"),\n",
    "    tf.keras.layers.Dropout(rate=0.5),\n",
    "    tf.keras.layers.Dense(units=128, activation=tf.nn.relu),\n",
    "    tf.keras.layers.Dense(units=NUM_CLASSES, activation=tf.nn.softmax)\n",
    "])\n",
    "\n",
    "nlp_model.build()"
   ],
   "outputs": [],
   "metadata": {}
  },
  {
   "cell_type": "code",
   "execution_count": 42,
   "source": [
    "nlp_model.summary()"
   ],
   "outputs": [
    {
     "output_type": "stream",
     "name": "stdout",
     "text": [
      "Model: \"sequential_9\"\n",
      "_________________________________________________________________\n",
      "Layer (type)                 Output Shape              Param #   \n",
      "=================================================================\n",
      "embedding_2 (Embedding)      (None, None, 256)         2560000   \n",
      "_________________________________________________________________\n",
      "dropout_18 (Dropout)         (None, None, 256)         0         \n",
      "_________________________________________________________________\n",
      "bidirectional_2 (Bidirection (None, 256)               1050624   \n",
      "_________________________________________________________________\n",
      "dropout_19 (Dropout)         (None, 256)               0         \n",
      "_________________________________________________________________\n",
      "dense_18 (Dense)             (None, 128)               32896     \n",
      "_________________________________________________________________\n",
      "dense_19 (Dense)             (None, 5)                 645       \n",
      "=================================================================\n",
      "Total params: 3,644,165\n",
      "Trainable params: 3,644,165\n",
      "Non-trainable params: 0\n",
      "_________________________________________________________________\n"
     ]
    }
   ],
   "metadata": {}
  },
  {
   "cell_type": "code",
   "execution_count": 43,
   "source": [
    "batch_size = 128\n",
    "epochs = 10\n",
    "\n",
    "nlp_model.compile(loss=\"sparse_categorical_crossentropy\", optimizer=\"adam\", metrics=[\"accuracy\"])\n",
    "\n",
    "nlp_hist = nlp_model.fit(train_txt_ds.padded_batch(batch_size),\n",
    "                         batch_size=batch_size,\n",
    "                         epochs=epochs,\n",
    "                         validation_data=test_txt_ds.padded_batch(8),\n",
    "                         callbacks=[tf.keras.callbacks.TensorBoard(\"logs/nlp\")])\n"
   ],
   "outputs": [
    {
     "output_type": "stream",
     "name": "stderr",
     "text": [
      "2021-10-20 11:36:30.282025: I tensorflow/core/profiler/lib/profiler_session.cc:131] Profiler session initializing.\n",
      "2021-10-20 11:36:30.282050: I tensorflow/core/profiler/lib/profiler_session.cc:146] Profiler session started.\n",
      "2021-10-20 11:36:30.420760: I tensorflow/core/profiler/lib/profiler_session.cc:164] Profiler session tear down.\n",
      "2021-10-20 11:36:30.420863: I tensorflow/core/profiler/internal/gpu/cupti_tracer.cc:1748] CUPTI activity buffer flushed\n"
     ]
    },
    {
     "output_type": "stream",
     "name": "stdout",
     "text": [
      "Epoch 1/10\n",
      "  1/102 [..............................] - ETA: 3:29 - loss: 1.6117 - accuracy: 0.1875"
     ]
    },
    {
     "output_type": "stream",
     "name": "stderr",
     "text": [
      "2021-10-20 11:36:33.750330: I tensorflow/core/profiler/lib/profiler_session.cc:131] Profiler session initializing.\n",
      "2021-10-20 11:36:33.750350: I tensorflow/core/profiler/lib/profiler_session.cc:146] Profiler session started.\n"
     ]
    },
    {
     "output_type": "stream",
     "name": "stdout",
     "text": [
      "  2/102 [..............................] - ETA: 50s - loss: 1.6092 - accuracy: 0.1992 "
     ]
    },
    {
     "output_type": "stream",
     "name": "stderr",
     "text": [
      "2021-10-20 11:36:34.258888: I tensorflow/core/profiler/lib/profiler_session.cc:66] Profiler session collecting data.\n",
      "2021-10-20 11:36:34.259398: I tensorflow/core/profiler/internal/gpu/cupti_tracer.cc:1748] CUPTI activity buffer flushed\n",
      "2021-10-20 11:36:34.294027: I tensorflow/core/profiler/internal/gpu/cupti_collector.cc:673]  GpuTracer has collected 5111 callback api events and 5148 activity events. \n",
      "2021-10-20 11:36:34.343426: I tensorflow/core/profiler/lib/profiler_session.cc:164] Profiler session tear down.\n",
      "2021-10-20 11:36:34.419382: I tensorflow/core/profiler/rpc/client/save_profile.cc:136] Creating directory: logs/nlp/train/plugins/profile/2021_10_20_11_36_34\n",
      "\n",
      "2021-10-20 11:36:34.472858: I tensorflow/core/profiler/rpc/client/save_profile.cc:142] Dumped gzipped tool data for trace.json.gz to logs/nlp/train/plugins/profile/2021_10_20_11_36_34/doudou-blade.trace.json.gz\n",
      "2021-10-20 11:36:34.530163: I tensorflow/core/profiler/rpc/client/save_profile.cc:136] Creating directory: logs/nlp/train/plugins/profile/2021_10_20_11_36_34\n",
      "\n",
      "2021-10-20 11:36:34.533950: I tensorflow/core/profiler/rpc/client/save_profile.cc:142] Dumped gzipped tool data for memory_profile.json.gz to logs/nlp/train/plugins/profile/2021_10_20_11_36_34/doudou-blade.memory_profile.json.gz\n",
      "2021-10-20 11:36:34.535285: I tensorflow/core/profiler/rpc/client/capture_profile.cc:251] Creating directory: logs/nlp/train/plugins/profile/2021_10_20_11_36_34\n",
      "Dumped tool data for xplane.pb to logs/nlp/train/plugins/profile/2021_10_20_11_36_34/doudou-blade.xplane.pb\n",
      "Dumped tool data for overview_page.pb to logs/nlp/train/plugins/profile/2021_10_20_11_36_34/doudou-blade.overview_page.pb\n",
      "Dumped tool data for input_pipeline.pb to logs/nlp/train/plugins/profile/2021_10_20_11_36_34/doudou-blade.input_pipeline.pb\n",
      "Dumped tool data for tensorflow_stats.pb to logs/nlp/train/plugins/profile/2021_10_20_11_36_34/doudou-blade.tensorflow_stats.pb\n",
      "Dumped tool data for kernel_stats.pb to logs/nlp/train/plugins/profile/2021_10_20_11_36_34/doudou-blade.kernel_stats.pb\n",
      "\n"
     ]
    },
    {
     "output_type": "stream",
     "name": "stdout",
     "text": [
      "102/102 [==============================] - 35s 326ms/step - loss: 0.9752 - accuracy: 0.5779 - val_loss: 0.6414 - val_accuracy: 0.7490\n",
      "Epoch 2/10\n",
      "102/102 [==============================] - 32s 315ms/step - loss: 0.4984 - accuracy: 0.8264 - val_loss: 0.6229 - val_accuracy: 0.7800\n",
      "Epoch 3/10\n",
      "102/102 [==============================] - 33s 320ms/step - loss: 0.3170 - accuracy: 0.8968 - val_loss: 0.5629 - val_accuracy: 0.8179\n",
      "Epoch 4/10\n",
      "102/102 [==============================] - 32s 316ms/step - loss: 0.1934 - accuracy: 0.9416 - val_loss: 0.6409 - val_accuracy: 0.7984\n",
      "Epoch 5/10\n",
      "102/102 [==============================] - 32s 317ms/step - loss: 0.1465 - accuracy: 0.9544 - val_loss: 0.7281 - val_accuracy: 0.8191\n",
      "Epoch 6/10\n",
      "102/102 [==============================] - 32s 318ms/step - loss: 0.0996 - accuracy: 0.9685 - val_loss: 0.8194 - val_accuracy: 0.8104\n",
      "Epoch 7/10\n",
      "102/102 [==============================] - 32s 317ms/step - loss: 0.0872 - accuracy: 0.9719 - val_loss: 0.8281 - val_accuracy: 0.8035\n",
      "Epoch 8/10\n",
      "102/102 [==============================] - 32s 319ms/step - loss: 0.0702 - accuracy: 0.9774 - val_loss: 0.9164 - val_accuracy: 0.8110\n",
      "Epoch 9/10\n",
      "102/102 [==============================] - 32s 317ms/step - loss: 0.0650 - accuracy: 0.9766 - val_loss: 0.9698 - val_accuracy: 0.8122\n",
      "Epoch 10/10\n",
      "102/102 [==============================] - 33s 321ms/step - loss: 0.0717 - accuracy: 0.9754 - val_loss: 1.0441 - val_accuracy: 0.8095\n"
     ]
    }
   ],
   "metadata": {}
  },
  {
   "cell_type": "markdown",
   "source": [
    "## Mix CV & NLP"
   ],
   "metadata": {}
  },
  {
   "cell_type": "code",
   "execution_count": 44,
   "source": [
    "# NLP part\n",
    "input_nlp = tf.keras.Input(shape=(None,), dtype=tf.int64, ragged=True, name=\"input_nlp\")\n",
    "nlp_x = tf.keras.layers.Embedding(input_dim=VOCAB_SIZE, output_dim=256)(input_nlp)\n",
    "nlp_x = tf.keras.layers.Dropout(rate=0.5)(nlp_x)\n",
    "nlp_x = tf.keras.layers.Bidirectional(tf.keras.layers.LSTM(units=256), merge_mode=\"sum\")(nlp_x)\n",
    "nlp_x = tf.keras.layers.Dropout(rate=0.5)(nlp_x)\n",
    "nlp_x = tf.keras.layers.Dense(units=128, activation=tf.nn.relu)(nlp_x)\n",
    "nlp_x = tf.keras.layers.BatchNormalization()(nlp_x)\n",
    "\n",
    "# CV part\n",
    "input_cv = tf.keras.Input(shape=(385, 297, 1), name=\"input_cv\")\n",
    "cv_x = tf.keras.layers.Conv2D(filters=8 , kernel_size=(3, 3), strides=(1, 1), activation=tf.nn.relu)(input_cv)\n",
    "cv_x = tf.keras.layers.Conv2D(filters=16, kernel_size=(3, 3), strides=(2, 2), activation=tf.nn.relu)(cv_x)\n",
    "cv_x = tf.keras.layers.Dropout(rate=0.5)(cv_x)\n",
    "cv_x = tf.keras.layers.Conv2D(filters=32, kernel_size=(5, 5), strides=(1, 1), activation=tf.nn.relu)(cv_x)\n",
    "cv_x = tf.keras.layers.MaxPooling2D(pool_size=(3, 3))(cv_x)\n",
    "cv_x = tf.keras.layers.Conv2D(filters=32, kernel_size=(5, 5), strides=(2, 2), activation=tf.nn.relu)(cv_x)\n",
    "cv_x = tf.keras.layers.Dropout(rate=0.5)(cv_x)\n",
    "cv_x = tf.keras.layers.Flatten()(cv_x)\n",
    "cv_x = tf.keras.layers.Dense(units=128, activation=tf.nn.relu)(cv_x)\n",
    "cv_x = tf.keras.layers.BatchNormalization()(cv_x)\n",
    "\n",
    "merge_x = cv_x + nlp_x\n",
    "out = tf.keras.layers.Dense(units=NUM_CLASSES, activation=tf.nn.softmax)(merge_x)\n",
    "\n",
    "mix_model = tf.keras.Model(inputs=[input_nlp, input_cv], outputs=out)\n"
   ],
   "outputs": [],
   "metadata": {}
  },
  {
   "cell_type": "code",
   "execution_count": 45,
   "source": [
    "mix_model.summary()"
   ],
   "outputs": [
    {
     "output_type": "stream",
     "name": "stdout",
     "text": [
      "Model: \"model\"\n",
      "__________________________________________________________________________________________________\n",
      "Layer (type)                    Output Shape         Param #     Connected to                     \n",
      "==================================================================================================\n",
      "input_cv (InputLayer)           [(None, 385, 297, 1) 0                                            \n",
      "__________________________________________________________________________________________________\n",
      "conv2d_28 (Conv2D)              (None, 383, 295, 8)  80          input_cv[0][0]                   \n",
      "__________________________________________________________________________________________________\n",
      "conv2d_29 (Conv2D)              (None, 191, 147, 16) 1168        conv2d_28[0][0]                  \n",
      "__________________________________________________________________________________________________\n",
      "dropout_22 (Dropout)            (None, 191, 147, 16) 0           conv2d_29[0][0]                  \n",
      "__________________________________________________________________________________________________\n",
      "conv2d_30 (Conv2D)              (None, 187, 143, 32) 12832       dropout_22[0][0]                 \n",
      "__________________________________________________________________________________________________\n",
      "input_nlp (InputLayer)          [(None, None)]       0                                            \n",
      "__________________________________________________________________________________________________\n",
      "max_pooling2d_8 (MaxPooling2D)  (None, 62, 47, 32)   0           conv2d_30[0][0]                  \n",
      "__________________________________________________________________________________________________\n",
      "embedding_3 (Embedding)         (None, None, 256)    2560000     input_nlp[0][0]                  \n",
      "__________________________________________________________________________________________________\n",
      "conv2d_31 (Conv2D)              (None, 29, 22, 32)   25632       max_pooling2d_8[0][0]            \n",
      "__________________________________________________________________________________________________\n",
      "dropout_20 (Dropout)            (None, None, 256)    0           embedding_3[0][0]                \n",
      "__________________________________________________________________________________________________\n",
      "dropout_23 (Dropout)            (None, 29, 22, 32)   0           conv2d_31[0][0]                  \n",
      "__________________________________________________________________________________________________\n",
      "bidirectional_3 (Bidirectional) (None, 256)          1050624     dropout_20[0][0]                 \n",
      "__________________________________________________________________________________________________\n",
      "flatten_7 (Flatten)             (None, 20416)        0           dropout_23[0][0]                 \n",
      "__________________________________________________________________________________________________\n",
      "dropout_21 (Dropout)            (None, 256)          0           bidirectional_3[0][0]            \n",
      "__________________________________________________________________________________________________\n",
      "dense_21 (Dense)                (None, 128)          2613376     flatten_7[0][0]                  \n",
      "__________________________________________________________________________________________________\n",
      "dense_20 (Dense)                (None, 128)          32896       dropout_21[0][0]                 \n",
      "__________________________________________________________________________________________________\n",
      "batch_normalization_1 (BatchNor (None, 128)          512         dense_21[0][0]                   \n",
      "__________________________________________________________________________________________________\n",
      "batch_normalization (BatchNorma (None, 128)          512         dense_20[0][0]                   \n",
      "__________________________________________________________________________________________________\n",
      "tf.__operators__.add (TFOpLambd (None, 128)          0           batch_normalization_1[0][0]      \n",
      "                                                                 batch_normalization[0][0]        \n",
      "__________________________________________________________________________________________________\n",
      "dense_22 (Dense)                (None, 5)            645         tf.__operators__.add[0][0]       \n",
      "==================================================================================================\n",
      "Total params: 6,298,277\n",
      "Trainable params: 6,297,765\n",
      "Non-trainable params: 512\n",
      "__________________________________________________________________________________________________\n"
     ]
    }
   ],
   "metadata": {}
  },
  {
   "cell_type": "code",
   "execution_count": 46,
   "source": [
    "batch_size = 128\n",
    "epochs = 10\n",
    "\n",
    "mix_model.compile(loss=\"sparse_categorical_crossentropy\", optimizer=\"adam\", metrics=[\"accuracy\"])\n",
    "\n",
    "mix_hist = mix_model.fit(train_mix_ds.padded_batch(batch_size),\n",
    "                         batch_size=batch_size,\n",
    "                         epochs=epochs,\n",
    "                         validation_data=test_mix_ds.padded_batch(8),\n",
    "                         callbacks=[tf.keras.callbacks.TensorBoard(\"logs/mix\")])\n"
   ],
   "outputs": [
    {
     "output_type": "stream",
     "name": "stderr",
     "text": [
      "2021-10-20 11:42:25.390610: I tensorflow/core/profiler/lib/profiler_session.cc:131] Profiler session initializing.\n",
      "2021-10-20 11:42:25.390633: I tensorflow/core/profiler/lib/profiler_session.cc:146] Profiler session started.\n",
      "2021-10-20 11:42:25.530680: I tensorflow/core/profiler/lib/profiler_session.cc:164] Profiler session tear down.\n",
      "2021-10-20 11:42:25.530910: I tensorflow/core/profiler/internal/gpu/cupti_tracer.cc:1748] CUPTI activity buffer flushed\n"
     ]
    },
    {
     "output_type": "stream",
     "name": "stdout",
     "text": [
      "Epoch 1/10\n"
     ]
    },
    {
     "output_type": "stream",
     "name": "stderr",
     "text": [
      "2021-10-20 11:42:31.438866: W tensorflow/core/common_runtime/bfc_allocator.cc:272] Allocator (GPU_0_bfc) ran out of memory trying to allocate 2.03GiB with freed_by_count=0. The caller indicates that this is not a failure, but may mean that there could be performance gains if more memory were available.\n",
      "2021-10-20 11:42:32.035804: W tensorflow/core/common_runtime/bfc_allocator.cc:272] Allocator (GPU_0_bfc) ran out of memory trying to allocate 2.28GiB with freed_by_count=0. The caller indicates that this is not a failure, but may mean that there could be performance gains if more memory were available.\n",
      "2021-10-20 11:42:32.429195: W tensorflow/core/common_runtime/bfc_allocator.cc:272] Allocator (GPU_0_bfc) ran out of memory trying to allocate 3.45GiB with freed_by_count=0. The caller indicates that this is not a failure, but may mean that there could be performance gains if more memory were available.\n"
     ]
    },
    {
     "output_type": "stream",
     "name": "stdout",
     "text": [
      "  1/102 [..............................] - ETA: 10:41 - loss: 2.2512 - accuracy: 0.2109"
     ]
    },
    {
     "output_type": "stream",
     "name": "stderr",
     "text": [
      "2021-10-20 11:42:33.370209: I tensorflow/core/profiler/lib/profiler_session.cc:131] Profiler session initializing.\n",
      "2021-10-20 11:42:33.370236: I tensorflow/core/profiler/lib/profiler_session.cc:146] Profiler session started.\n"
     ]
    },
    {
     "output_type": "stream",
     "name": "stdout",
     "text": [
      "  2/102 [..............................] - ETA: 2:26 - loss: 2.1060 - accuracy: 0.2383 "
     ]
    },
    {
     "output_type": "stream",
     "name": "stderr",
     "text": [
      "2021-10-20 11:42:34.874908: I tensorflow/core/profiler/lib/profiler_session.cc:66] Profiler session collecting data.\n",
      "2021-10-20 11:42:34.875552: I tensorflow/core/profiler/internal/gpu/cupti_tracer.cc:1748] CUPTI activity buffer flushed\n",
      "2021-10-20 11:42:34.925498: I tensorflow/core/profiler/internal/gpu/cupti_collector.cc:673]  GpuTracer has collected 5570 callback api events and 5611 activity events. \n",
      "2021-10-20 11:42:34.988834: I tensorflow/core/profiler/lib/profiler_session.cc:164] Profiler session tear down.\n",
      "2021-10-20 11:42:35.086358: I tensorflow/core/profiler/rpc/client/save_profile.cc:136] Creating directory: logs/mix/train/plugins/profile/2021_10_20_11_42_34\n",
      "\n",
      "2021-10-20 11:42:35.166458: I tensorflow/core/profiler/rpc/client/save_profile.cc:142] Dumped gzipped tool data for trace.json.gz to logs/mix/train/plugins/profile/2021_10_20_11_42_34/doudou-blade.trace.json.gz\n",
      "2021-10-20 11:42:35.231875: I tensorflow/core/profiler/rpc/client/save_profile.cc:136] Creating directory: logs/mix/train/plugins/profile/2021_10_20_11_42_34\n",
      "\n",
      "2021-10-20 11:42:35.236161: I tensorflow/core/profiler/rpc/client/save_profile.cc:142] Dumped gzipped tool data for memory_profile.json.gz to logs/mix/train/plugins/profile/2021_10_20_11_42_34/doudou-blade.memory_profile.json.gz\n",
      "2021-10-20 11:42:35.237904: I tensorflow/core/profiler/rpc/client/capture_profile.cc:251] Creating directory: logs/mix/train/plugins/profile/2021_10_20_11_42_34\n",
      "Dumped tool data for xplane.pb to logs/mix/train/plugins/profile/2021_10_20_11_42_34/doudou-blade.xplane.pb\n",
      "Dumped tool data for overview_page.pb to logs/mix/train/plugins/profile/2021_10_20_11_42_34/doudou-blade.overview_page.pb\n",
      "Dumped tool data for input_pipeline.pb to logs/mix/train/plugins/profile/2021_10_20_11_42_34/doudou-blade.input_pipeline.pb\n",
      "Dumped tool data for tensorflow_stats.pb to logs/mix/train/plugins/profile/2021_10_20_11_42_34/doudou-blade.tensorflow_stats.pb\n",
      "Dumped tool data for kernel_stats.pb to logs/mix/train/plugins/profile/2021_10_20_11_42_34/doudou-blade.kernel_stats.pb\n",
      "\n"
     ]
    },
    {
     "output_type": "stream",
     "name": "stdout",
     "text": [
      "102/102 [==============================] - 150s 1s/step - loss: 0.9255 - accuracy: 0.6665 - val_loss: 5.4864 - val_accuracy: 0.2016\n",
      "Epoch 2/10\n",
      "102/102 [==============================] - ETA: 0s - loss: 0.3932 - accuracy: 0.8703"
     ]
    }
   ],
   "metadata": {}
  },
  {
   "cell_type": "code",
   "execution_count": null,
   "source": [],
   "outputs": [],
   "metadata": {}
  }
 ],
 "metadata": {
  "orig_nbformat": 4,
  "language_info": {
   "name": "python",
   "version": "3.9.7",
   "mimetype": "text/x-python",
   "codemirror_mode": {
    "name": "ipython",
    "version": 3
   },
   "pygments_lexer": "ipython3",
   "nbconvert_exporter": "python",
   "file_extension": ".py"
  },
  "kernelspec": {
   "name": "python3",
   "display_name": "Python 3.9.7 64-bit ('.venv': venv)"
  },
  "interpreter": {
   "hash": "b9d6bdd8f7dde5cd7f6196e727254796a610d31de0bf8d3fdd813982d902c478"
  }
 },
 "nbformat": 4,
 "nbformat_minor": 2
}